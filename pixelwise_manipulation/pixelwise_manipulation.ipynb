{
 "cells": [
  {
   "cell_type": "code",
   "execution_count": null,
   "metadata": {},
   "outputs": [],
   "source": [
    "import cv2\n",
    "import numpy as np"
   ]
  },
  {
   "cell_type": "code",
   "execution_count": null,
   "metadata": {},
   "outputs": [],
   "source": [
    "lena_image = cv2.imread('./images/lena.jpg')\n",
    "cv2.imshow('Lena', lena_image)"
   ]
  },
  {
   "cell_type": "code",
   "execution_count": null,
   "metadata": {},
   "outputs": [],
   "source": [
    "# Convert image to YUV color space.\n",
    "ycrcb_image = cv2.cvtColor(lena_image, cv2.COLOR_BGR2YCR_CB)\n",
    "cv2.imshow('Lena YUV', ycrcb_image)\n",
    "# Split the image into separate color planes\n",
    "y, cr, cb = cv2.split(ycrcb_image)"
   ]
  },
  {
   "cell_type": "code",
   "execution_count": null,
   "metadata": {},
   "outputs": [],
   "source": [
    "# Allocates a matrix of the specified size and type\n",
    "noise = np.zeros(lena_image.shape, dtype=np.uint8)\n",
    "# Fills the matrix with normally distributed random values;\n",
    "cv2.randn(noise, (128, 128, 128), (20, 20, 20))\n",
    "cv2.imshow('Noise', noise)"
   ]
  },
  {
   "cell_type": "code",
   "execution_count": null,
   "metadata": {},
   "outputs": [],
   "source": [
    "# Blur the noise a bit, kernel size is 3x3 and both sigma's are set to 0.5\n",
    "noise_blurred = cv2.GaussianBlur(noise, (3, 3), 0.5, 0.5)\n",
    "cv2.imshow('Noise blurred', noise_blurred)\n",
    "noise_blurred_first_color_channel, _, _ = cv2.split(noise_blurred)"
   ]
  },
  {
   "cell_type": "code",
   "execution_count": null,
   "metadata": {},
   "outputs": [],
   "source": [
    "brightness_gain = 0\n",
    "contrast_gain = 1.7\n",
    "cv2.addWeighted(\n",
    "    y,\n",
    "    contrast_gain,\n",
    "    noise_blurred_first_color_channel,\n",
    "    1,\n",
    "    -128 + brightness_gain,\n",
    "     y\n",
    ")\n",
    "color_scale = 0.5\n",
    "# Scale and add values to plane[1];\n",
    "cv2.convertScaleAbs(cr, cr, color_scale, 128 * (1 - color_scale))"
   ]
  },
  {
   "cell_type": "code",
   "execution_count": null,
   "metadata": {},
   "outputs": [],
   "source": [
    "# TODO: Apply Element-wise multiplication to 'y' matrix\n",
    "# y *= 1. / 255\n",
    "# Now merge the results back\n",
    "ycrcb_merged = cv2.merge((y, cr, cb))"
   ]
  },
  {
   "cell_type": "code",
   "execution_count": null,
   "metadata": {},
   "outputs": [],
   "source": [
    "# Produce the output RGB image\n",
    "lena_image_with_grain = cv2.cvtColor(ycrcb_merged, cv2.COLOR_YCrCb2RGB)\n",
    "cv2.imshow('Lena with grain', lena_image_with_grain)\n",
    "cv2.waitKey()\n",
    "cv2.destroyAllWindows()"
   ]
  }
 ],
 "metadata": {
  "kernelspec": {
   "display_name": "Python 3",
   "language": "python",
   "name": "python3"
  },
  "language_info": {
   "codemirror_mode": {
    "name": "ipython",
    "version": 3
   },
   "file_extension": ".py",
   "mimetype": "text/x-python",
   "name": "python",
   "nbconvert_exporter": "python",
   "pygments_lexer": "ipython3",
   "version": "3.8.5"
  }
 },
 "nbformat": 4,
 "nbformat_minor": 4
}
